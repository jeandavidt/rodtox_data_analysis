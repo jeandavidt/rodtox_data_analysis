{
 "cells": [
  {
   "cell_type": "markdown",
   "metadata": {},
   "source": [
    "# Import statements"
   ]
  },
  {
   "cell_type": "code",
   "execution_count": null,
   "metadata": {},
   "outputs": [],
   "source": [
    "import plotly as py\n",
    "import numpy as np\n",
    "import pandas as pd\n",
    "from datetime import datetime\n",
    "from scipy import special\n",
    "\n",
    "from rodtox import *\n",
    "\n",
    "#set up offline mode for plotly\n",
    "py.offline.init_notebook_mode(connected=False)"
   ]
  },
  {
   "cell_type": "markdown",
   "metadata": {},
   "source": [
    "# Data import\n",
    "## Define the paths to the files we need. Those files are:\n",
    "* csvDO: .csv file containing Rodtox DO data.\n",
    "* csvTemp: .csv file containing Rodtox temperature data.\n",
    "* sourcepath: The path to the directory containing the original .csv files (relative to the notebook's directory)\n",
    "* destinationpath: The path to the directory where the final data may be written.\n",
    "* existing: Name of an already existing file that you want to analyze alongside the new data. existing = None by default, so you don't have to add the keyword if you don't need it)."
   ]
  },
  {
   "cell_type": "code",
   "execution_count": null,
   "metadata": {},
   "outputs": [],
   "source": [
    "csvDO = 'DO_log22AoutB.csv'\n",
    "csvTemp = 'Temp_log22AoutB.csv'\n",
    "sourcepath='To_import'\n",
    "destinationpath='Imported'"
   ]
  },
  {
   "cell_type": "code",
   "execution_count": null,
   "metadata": {},
   "outputs": [],
   "source": [
    "Data, Start, End = ImportRdtxCsv(csvDO,csvTemp, sourcepath, destinationpath)  # ex: existing='DO_log22AoutA.csv'"
   ]
  },
  {
   "cell_type": "markdown",
   "metadata": {},
   "source": [
    "## Plot the imported data\n",
    "Just to make sure it's what we wanted. "
   ]
  },
  {
   "cell_type": "code",
   "execution_count": null,
   "metadata": {},
   "outputs": [],
   "source": [
    "y1_series = ['DO']\n",
    "y2_series = ['Temp']\n",
    "\n",
    "y1_labels = ['Raw DO']\n",
    "y2_labels = ['Temperature']\n",
    "\n",
    "y1_units = ['mg/l']\n",
    "y2_units = ['°C']\n",
    "\n",
    "marks = ['lines','lines']\n",
    "\n",
    "figure = Plotit(Data, Start, End, y1_series, y2_series, y1_labels, y2_labels, y1_units, y2_units, marks)\n",
    "py.offline.iplot(figure)"
   ]
  },
  {
   "cell_type": "markdown",
   "metadata": {},
   "source": [
    "The plot is interactive, so you can zoom in the the section you want and choose the Start time and End time of your analysis."
   ]
  },
  {
   "cell_type": "code",
   "execution_count": null,
   "metadata": {},
   "outputs": [],
   "source": [
    "Starttime = '10 August 2017 00:00:00'\n",
    "Endtime = '10 August 2017 12:00:00'\n",
    "analysis_data = Data[Starttime:Endtime]"
   ]
  },
  {
   "cell_type": "markdown",
   "metadata": {},
   "source": [
    "## Smoothen the data using the Deriv function.\n",
    "Inputs:\n",
    "\n",
    "* The data frame to analyze\n",
    "* Tau: The delayt constant of the DO probe (for the RODTOX's probe (at least in 2017) it is (was) 32 seconds.\n",
    "* Window size: The size of the rolling window for the rolling average."
   ]
  },
  {
   "cell_type": "code",
   "execution_count": null,
   "metadata": {},
   "outputs": [],
   "source": [
    "analysis_data= Deriv(analysis_data, 32, 21)"
   ]
  },
  {
   "cell_type": "markdown",
   "metadata": {},
   "source": [
    "Again, let's plot the data to make sure everything's going according to plan."
   ]
  },
  {
   "cell_type": "code",
   "execution_count": null,
   "metadata": {},
   "outputs": [],
   "source": [
    "y1_series = ['DO','DO_A']\n",
    "y2_series = ['Temp']\n",
    "\n",
    "y1_labels = ['Raw DO','DO smooth']\n",
    "y2_labels = ['Temperature']\n",
    "\n",
    "y1_units = ['mg/l','mg/l']\n",
    "y2_units = ['°C']\n",
    "\n",
    "marks = ['lines','lines']\n",
    "\n",
    "figure = Plotit(analysis_data, Starttime, Endtime, y1_series, y2_series, y1_labels, y2_labels, y1_units, y2_units, marks)\n",
    "py.offline.iplot(figure)"
   ]
  },
  {
   "cell_type": "markdown",
   "metadata": {},
   "source": [
    "Now we're ready for some analysis!"
   ]
  },
  {
   "cell_type": "markdown",
   "metadata": {},
   "source": [
    "## calc_kla\n",
    "calc_kla locates the important points of each peaks in the time series and calculates the KLa of each peak.\n",
    "\n",
    "Inputs: \n",
    "* df: DataFrame containing the data to analyze (must have gone through the Analyze_Respirograms1 function beforehand)\n",
    "* Start: A string defining the start of the data series to analyze\n",
    "* End: A string defining the start of the data series to analyze\n",
    "* Sample_Volume: The volume (in liters) of each wastewater sample added to the RODTOX by the measurement pump during the investigated time series.\n",
    "* Cal_Volume: The volume (in liters) of each calibration solution sample added to the RODTOX by the calibration pump during the investigated time series.\n",
    "\n",
    "Outputs:\n",
    "* A figure showing the importants points of each peak.\n",
    "* DF: The orginal DataFrame with added rows containing the function's results.\n",
    "* stBODresults: A DataFrame containing the stBOD of each wastewater sample peak in the data series.\n",
    "* A figure showing the value of Kla found for each peak, as well as the fitted rearation curve of each peak (dotted lines)\n",
    "\n",
    "There might be a big scary red block saying \"A value is trying to be set on a copy of a slice from a DataFrame\". Don't worry about it, it's going to work anyway ;)"
   ]
  },
  {
   "cell_type": "code",
   "execution_count": null,
   "metadata": {
    "scrolled": false
   },
   "outputs": [],
   "source": [
    "analysis_data, Kla = calc_kla(analysis_data, Starttime, Endtime, 0.250, 0.012)"
   ]
  },
  {
   "cell_type": "markdown",
   "metadata": {},
   "source": [
    "## calc_stbod\n",
    "calc_stbod calculates the short-term BOD of each respirogram.\n",
    "\n",
    "Inputs: \n",
    "* df: DataFrame containing the data to analyze (must have gone through the Analyze_Respirograms1 function beforehand)\n",
    "* Filtered: DataFrame containing rows that each describe a separate respirogram.\n",
    "* Start: A string defining the start of the data series to analyze\n",
    "* End: A string defining the start of the data series to analyze\n",
    "* Sample_Volume: The volume (in liters) of each wastewater sample added to the RODTOX by the measurement pump during the investigated time series.\n",
    "* Cal_Volume: The volume (in liters) of each calibration solution sample added to the RODTOX by the calibration pump during the investigated time series.\n",
    "* dec_time: This parameters helps to locate decantation peaks within the time series. It defines time-delta (in seconds) between a respirogram's 'Start' and its 'Bottom' DO concentration. For a given respirogram, when the time between those two events is larger than dec_time, then the respirogram is tagged as a decantation peak.\n",
    "\n",
    "Outputs:\n",
    "* DF: The orginal DataFrame with added rows containing the function's results.\n",
    "* Filtered: A DataFrame containing rows describing each peak in the data series."
   ]
  },
  {
   "cell_type": "code",
   "execution_count": null,
   "metadata": {},
   "outputs": [],
   "source": [
    "analysis_data, stbod = calc_stbod(analysis_data, Kla, Starttime, Endtime, 0.250, 0.012, 800)"
   ]
  },
  {
   "cell_type": "markdown",
   "metadata": {},
   "source": [
    "Let's look at the obtained stbod data:"
   ]
  },
  {
   "cell_type": "code",
   "execution_count": null,
   "metadata": {},
   "outputs": [],
   "source": [
    "stbod"
   ]
  },
  {
   "cell_type": "markdown",
   "metadata": {},
   "source": [
    "Let's save the final stbod data to a .csv file\n",
    "So it's easy to retrieve, let's add the beginning and end dates of the analysis to the filename and store it a folder names \"stBOD results\""
   ]
  },
  {
   "cell_type": "code",
   "execution_count": null,
   "metadata": {},
   "outputs": [],
   "source": [
    "results_dir = 'stBOD results/'\n",
    "\n",
    "beginning = datetime.strptime(Starttime, '%d %B %Y %H:%M:%S').strftime('%Y%m%d')\n",
    "end = datetime.strptime(Endtime, '%d %B %Y %H:%M:%S').strftime('%Y%m%d')\n",
    "\n",
    "filename = 'stbod_{}_{}'.format(beginning, end)\n",
    "stbod.to_csv(results_dir + filename + '.csv', sep=';')"
   ]
  },
  {
   "cell_type": "code",
   "execution_count": null,
   "metadata": {},
   "outputs": [],
   "source": []
  }
 ],
 "metadata": {
  "kernelspec": {
   "display_name": "Python 3",
   "language": "python",
   "name": "python3"
  },
  "language_info": {
   "codemirror_mode": {
    "name": "ipython",
    "version": 3
   },
   "file_extension": ".py",
   "mimetype": "text/x-python",
   "name": "python",
   "nbconvert_exporter": "python",
   "pygments_lexer": "ipython3",
   "version": "3.7.2"
  }
 },
 "nbformat": 4,
 "nbformat_minor": 2
}
